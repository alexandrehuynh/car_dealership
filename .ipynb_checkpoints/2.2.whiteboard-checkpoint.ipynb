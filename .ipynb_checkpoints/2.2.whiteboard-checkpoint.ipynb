{
 "cells": [
  {
   "cell_type": "code",
   "execution_count": 1,
   "id": "1afa4c16-1748-4418-9813-23c14d3bf270",
   "metadata": {},
   "outputs": [],
   "source": [
    "# Degree of an array\n",
    "# Given a non-empty array of non-negative integers nums, the degree of this array is \n",
    "# defined as the maximum frequency of any one of its elements.Your task is to find the \n",
    "# smallest possible length of a (contiguous)subarray of nums, that has the same degree as nums.\n",
    "\n",
    "# Example 1:\n",
    "# Input: nums = [1,2,2,3,1]\n",
    "# Output: 2\n",
    "# Explanation:\n",
    "# The input array has a degree of 2 because both elements 1 and 2 appear twice.\n",
    "# Of the subarrays that have the same degree:\n",
    "# [1, 2, 2, 3, 1], [1, 2, 2, 3], [2, 2, 3, 1], [1, 2, 2], [2, 2, 3], [2, 2]\n",
    "# The shortest length is 2. So return 2.\n",
    "\n",
    "# Example 2:\n",
    "# Input: nums = [1,2,2,3,1,4,2]\n",
    "# Output: 6\n",
    "# Explanation:\n",
    "# The degree is 3 because the element 2 is repeated 3 times.\n",
    "# So [2,2,3,1,4,2] is the shortest subarray, therefore returning 6."
   ]
  },
  {
   "cell_type": "code",
   "execution_count": 22,
   "id": "6fd06d07-f12e-490b-ba8c-a5481172ba7a",
   "metadata": {},
   "outputs": [],
   "source": [
    "nums = [1,2,2,3,1]\n",
    "nums2 = [1,2,2,3,1,4,2]\n",
    "nums3 = [1,2,2,3,5,4,3,2,4,2,5,2,5,6,3,4]\n",
    "nums4 = [1,1,1,1,1,1,1,1,2,1]\n",
    "nums5 = [1,2,1,2,1,2,2,1]"
   ]
  },
  {
   "cell_type": "code",
   "execution_count": 25,
   "id": "a6b4ce0a-421e-4d45-b000-4174c3018df8",
   "metadata": {},
   "outputs": [],
   "source": [
    "# function name\n",
    "# initialize a dictionary (frequency, first and last occurances)\n",
    "# initalize step counter \n",
    "# find the degree of the array\n",
    "# track elements\n",
    "# find the distance between elements\n",
    "# find the first and last of elements\n",
    "# find the shortest distance \n",
    "\n",
    "def find_shortest_subarry(nums):\n",
    "    \"\"\"\n",
    "        Time Complexity: O(n): we go iterate the list once, and for loops are stacked operations\n",
    "\n",
    "        Space Complexity: O(n): our dictionary will grow as our number grows\n",
    "    \"\"\"\n",
    "    # initialize dictionary\n",
    "    info_dict = {}\n",
    "\n",
    "    # loop through nums to populate into dictionary\n",
    "    for i, num in enumerate(nums):\n",
    "        if num in info_dict:\n",
    "            info_dict[num]['freq'] += 1\n",
    "            info_dict[num]['last'] = i\n",
    "        else:\n",
    "            info_dict[num] = {'freq' : 1, 'first' : i, 'last' : i}\n",
    "\n",
    "    # initialize degree and min_length\n",
    "    degree = 0\n",
    "    min_length = float('inf')\n",
    "\n",
    "    # loop to deteremine our degree\n",
    "    for num in info_dict:\n",
    "        degree = max(degree, info_dict[num]['freq'])\n",
    "\n",
    "    # loop to find the minimum length of subarray with the same degree\n",
    "    for num in info_dict:\n",
    "        if info_dict[num]['freq'] == degree:\n",
    "            length = info_dict[num]['last'] - info_dict[num]['first'] + 1\n",
    "            min_length = min(min_length, length)\n",
    "\n",
    "    return min_length"
   ]
  },
  {
   "cell_type": "code",
   "execution_count": 23,
   "id": "f0253d27-f46e-4837-8d33-d721a2bb66d6",
   "metadata": {},
   "outputs": [
    {
     "data": {
      "text/plain": [
       "6"
      ]
     },
     "execution_count": 23,
     "metadata": {},
     "output_type": "execute_result"
    }
   ],
   "source": [
    "find_shortest_subarry(nums5)"
   ]
  }
 ],
 "metadata": {
  "kernelspec": {
   "display_name": "Python 3 (ipykernel)",
   "language": "python",
   "name": "python3"
  },
  "language_info": {
   "codemirror_mode": {
    "name": "ipython",
    "version": 3
   },
   "file_extension": ".py",
   "mimetype": "text/x-python",
   "name": "python",
   "nbconvert_exporter": "python",
   "pygments_lexer": "ipython3",
   "version": "3.11.7"
  }
 },
 "nbformat": 4,
 "nbformat_minor": 5
}
